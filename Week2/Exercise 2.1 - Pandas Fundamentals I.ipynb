{
 "cells": [
  {
   "cell_type": "markdown",
   "metadata": {
    "colab_type": "text",
    "id": "mQlkWmvx7J9r"
   },
   "source": [
    "# Data Science for Construction, Architecture and Engineering\n",
    "\n",
    "### Week 2 - Building Design Phase - Intro to Pandas\n",
    "\n",
    "### Exercise Set 2.1 - Pandas Fundamentals I\n",
    "\n",
    "This set of exercises is the first of two sets for Week 2. These exercises are designed to give you some hands on experience in trying out the concepts from the first set of videos for this week.\n",
    "\n",
    "There is an introduction video available to explain the process of using this exercise video.\n",
    "\n",
    "The lead developer of this exercise is Matias Quintana, a Ph.D. student at NUS and a teaching assistant of this course. "
   ]
  },
  {
   "cell_type": "markdown",
   "metadata": {
    "colab_type": "text",
    "id": "4rVMs5nJMWRF"
   },
   "source": [
    "# Exercise 02.1\n",
    "\n",
    "There are three exercises in this set, each one focused simple uses of the [Pandas library](https://pandas.pydata.org/).\n",
    "\n",
    "### Please note that you will need to use the resultant output from Exercise 02.1.3 for the Quiz 2.1."
   ]
  },
  {
   "cell_type": "markdown",
   "metadata": {
    "colab_type": "text",
    "id": "MeE39azs4oct"
   },
   "source": [
    "## Exercise 02.1.1\n",
    "\n",
    "Electrical powermeter datasets usually contain only one column with the electrical consmption in `KWh`. The [Building Data Genome](https://github.com/buds-lab/the-building-data-genome-project) is an example of such template. However, as you just saw in the lectures, you can also generate these datasets yourself after running simulations. \n",
    "\n",
    "In this exercise, write some lines of code to load the `Baseline` file  **without** using the `Month` information as index.\n",
    "\n",
    "The needed functions are already imported below:\n"
   ]
  },
  {
   "cell_type": "code",
   "execution_count": 1,
   "metadata": {
    "colab": {},
    "colab_type": "code",
    "id": "Z81IM6-FAJIa"
   },
   "outputs": [],
   "source": [
    "import pandas as pd\n",
    "import numpy as np\n",
    "import os\n",
    "#from google.colab import drive\n",
    "os.chdir(\"simulation_data/\")"
   ]
  },
  {
   "cell_type": "code",
   "execution_count": 2,
   "metadata": {},
   "outputs": [
    {
     "name": "stdout",
     "output_type": "stream",
     "text": [
      " Volume in drive C has no label.\n",
      " Volume Serial Number is E0C7-5C39\n",
      "\n",
      " Directory of C:\\Users\\Dennis\\Documents\\DSBE001x\\Week2\\simulation_data\n",
      "\n",
      "15/04/2020  08:35 AM    <DIR>          .\n",
      "15/04/2020  08:35 AM    <DIR>          ..\n",
      "07/07/2019  05:52 PM               169 Baseline.csv\n",
      "23/08/2019  10:12 PM             3,974 Baseline.xlsx\n",
      "07/07/2019  05:52 PM               186 Scenario - Aircon Schedules.csv\n",
      "07/07/2019  05:52 PM               181 Scenario - Cool roof.csv\n",
      "07/07/2019  05:52 PM               186 Scenario - Increase Setpoint.csv\n",
      "07/07/2019  05:52 PM               184 Scenario - Low-E Glass.csv\n",
      "07/07/2019  05:52 PM               186 Scenario - Rooftop Gardens.csv\n",
      "               7 File(s)          5,066 bytes\n",
      "               2 Dir(s)  97,379,545,088 bytes free\n"
     ]
    }
   ],
   "source": [
    "ls"
   ]
  },
  {
   "cell_type": "markdown",
   "metadata": {
    "colab_type": "text",
    "id": "vs3IjepjATsn"
   },
   "source": [
    "**Hint**: Remember whenever you want to load files from your Google Drive, you need to `mount` the drive first. The documentation for the Pandas library can be found [here](https://pandas.pydata.org/pandas-docs/stable/reference/api/pandas.read_csv.html)"
   ]
  },
  {
   "cell_type": "code",
   "execution_count": 3,
   "metadata": {
    "colab": {},
    "colab_type": "code",
    "id": "C6bGD7LT43dc"
   },
   "outputs": [],
   "source": [
    "df = pd.read_csv(\"Baseline.csv\")"
   ]
  },
  {
   "cell_type": "code",
   "execution_count": 4,
   "metadata": {},
   "outputs": [
    {
     "data": {
      "text/html": [
       "<div>\n",
       "<style scoped>\n",
       "    .dataframe tbody tr th:only-of-type {\n",
       "        vertical-align: middle;\n",
       "    }\n",
       "\n",
       "    .dataframe tbody tr th {\n",
       "        vertical-align: top;\n",
       "    }\n",
       "\n",
       "    .dataframe thead th {\n",
       "        text-align: right;\n",
       "    }\n",
       "</style>\n",
       "<table border=\"1\" class=\"dataframe\">\n",
       "  <thead>\n",
       "    <tr style=\"text-align: right;\">\n",
       "      <th></th>\n",
       "      <th>Month</th>\n",
       "      <th>Baseline</th>\n",
       "    </tr>\n",
       "  </thead>\n",
       "  <tbody>\n",
       "    <tr>\n",
       "      <th>0</th>\n",
       "      <td>January</td>\n",
       "      <td>5.69</td>\n",
       "    </tr>\n",
       "    <tr>\n",
       "      <th>1</th>\n",
       "      <td>February</td>\n",
       "      <td>6.75</td>\n",
       "    </tr>\n",
       "    <tr>\n",
       "      <th>2</th>\n",
       "      <td>March</td>\n",
       "      <td>10.64</td>\n",
       "    </tr>\n",
       "    <tr>\n",
       "      <th>3</th>\n",
       "      <td>April</td>\n",
       "      <td>13.60</td>\n",
       "    </tr>\n",
       "    <tr>\n",
       "      <th>4</th>\n",
       "      <td>May</td>\n",
       "      <td>19.34</td>\n",
       "    </tr>\n",
       "    <tr>\n",
       "      <th>5</th>\n",
       "      <td>June</td>\n",
       "      <td>22.64</td>\n",
       "    </tr>\n",
       "    <tr>\n",
       "      <th>6</th>\n",
       "      <td>July</td>\n",
       "      <td>27.02</td>\n",
       "    </tr>\n",
       "    <tr>\n",
       "      <th>7</th>\n",
       "      <td>August</td>\n",
       "      <td>27.13</td>\n",
       "    </tr>\n",
       "    <tr>\n",
       "      <th>8</th>\n",
       "      <td>September</td>\n",
       "      <td>25.04</td>\n",
       "    </tr>\n",
       "    <tr>\n",
       "      <th>9</th>\n",
       "      <td>October</td>\n",
       "      <td>18.47</td>\n",
       "    </tr>\n",
       "    <tr>\n",
       "      <th>10</th>\n",
       "      <td>November</td>\n",
       "      <td>13.02</td>\n",
       "    </tr>\n",
       "    <tr>\n",
       "      <th>11</th>\n",
       "      <td>December</td>\n",
       "      <td>7.53</td>\n",
       "    </tr>\n",
       "  </tbody>\n",
       "</table>\n",
       "</div>"
      ],
      "text/plain": [
       "        Month  Baseline\n",
       "0     January      5.69\n",
       "1    February      6.75\n",
       "2       March     10.64\n",
       "3       April     13.60\n",
       "4         May     19.34\n",
       "5        June     22.64\n",
       "6        July     27.02\n",
       "7      August     27.13\n",
       "8   September     25.04\n",
       "9     October     18.47\n",
       "10   November     13.02\n",
       "11   December      7.53"
      ]
     },
     "execution_count": 4,
     "metadata": {},
     "output_type": "execute_result"
    }
   ],
   "source": [
    "df"
   ]
  },
  {
   "cell_type": "markdown",
   "metadata": {
    "colab_type": "text",
    "id": "8Q-zAbOIUE-1"
   },
   "source": [
    "## Exercise 02.1.2"
   ]
  },
  {
   "cell_type": "markdown",
   "metadata": {
    "colab_type": "text",
    "id": "6LiLCmpwUgLC"
   },
   "source": [
    "The building facilities manager is concerned about the high consumption during certain months of the year and wants you to see which months the consumption is higher than a certain `consumption_threshold`. \n",
    "\n",
    "Write some lines of code that allows you to filter out the rows where the consumption exceed the given `consumption_threshold`. Set `consumption_threshold` equal to 20 initially"
   ]
  },
  {
   "cell_type": "code",
   "execution_count": 5,
   "metadata": {
    "colab": {},
    "colab_type": "code",
    "id": "lDL73czAUFbF"
   },
   "outputs": [
    {
     "data": {
      "text/html": [
       "<div>\n",
       "<style scoped>\n",
       "    .dataframe tbody tr th:only-of-type {\n",
       "        vertical-align: middle;\n",
       "    }\n",
       "\n",
       "    .dataframe tbody tr th {\n",
       "        vertical-align: top;\n",
       "    }\n",
       "\n",
       "    .dataframe thead th {\n",
       "        text-align: right;\n",
       "    }\n",
       "</style>\n",
       "<table border=\"1\" class=\"dataframe\">\n",
       "  <thead>\n",
       "    <tr style=\"text-align: right;\">\n",
       "      <th></th>\n",
       "      <th>Month</th>\n",
       "      <th>Baseline</th>\n",
       "    </tr>\n",
       "  </thead>\n",
       "  <tbody>\n",
       "    <tr>\n",
       "      <th>5</th>\n",
       "      <td>June</td>\n",
       "      <td>22.64</td>\n",
       "    </tr>\n",
       "    <tr>\n",
       "      <th>6</th>\n",
       "      <td>July</td>\n",
       "      <td>27.02</td>\n",
       "    </tr>\n",
       "    <tr>\n",
       "      <th>7</th>\n",
       "      <td>August</td>\n",
       "      <td>27.13</td>\n",
       "    </tr>\n",
       "    <tr>\n",
       "      <th>8</th>\n",
       "      <td>September</td>\n",
       "      <td>25.04</td>\n",
       "    </tr>\n",
       "  </tbody>\n",
       "</table>\n",
       "</div>"
      ],
      "text/plain": [
       "       Month  Baseline\n",
       "5       June     22.64\n",
       "6       July     27.02\n",
       "7     August     27.13\n",
       "8  September     25.04"
      ]
     },
     "execution_count": 5,
     "metadata": {},
     "output_type": "execute_result"
    }
   ],
   "source": [
    "consumption_threshold = 20\n",
    "\n",
    "df2 = df[df['Baseline'] > consumption_threshold]\n",
    "\n",
    "df2"
   ]
  },
  {
   "cell_type": "markdown",
   "metadata": {
    "colab_type": "text",
    "id": "HSotamy_4wid"
   },
   "source": [
    "## Exercise 02.1.3\n",
    "One energy analysis application is the analysis of *peak consumption ratios*. Suppose we want to know the ratio between the peak consumption of the month of April versus the Peak consumption across the whole year.\n",
    "\n",
    "In this exercise, let's do this by to finding the *percentage* of the April's peak consumption as compared to the peak consumption value across all months. \n",
    "\n",
    "Calculate your answer as a percentage (0-100) as the variable `percentage`\n",
    "\n",
    "Hint: One way to find the maximum value of a column in a dataframe is to use the function `.max()`, more information about the function can be found [here](https://pandas.pydata.org/pandas-docs/stable/reference/api/pandas.DataFrame.max.html). "
   ]
  },
  {
   "cell_type": "code",
   "execution_count": 6,
   "metadata": {
    "colab": {},
    "colab_type": "code",
    "id": "ZiafyX5ufOwR"
   },
   "outputs": [
    {
     "data": {
      "text/plain": [
       "27.13"
      ]
     },
     "execution_count": 6,
     "metadata": {},
     "output_type": "execute_result"
    }
   ],
   "source": [
    "peakall = df['Baseline'].max()\n",
    "peakall"
   ]
  },
  {
   "cell_type": "code",
   "execution_count": 7,
   "metadata": {},
   "outputs": [],
   "source": [
    "april = 13.60"
   ]
  },
  {
   "cell_type": "code",
   "execution_count": 8,
   "metadata": {},
   "outputs": [],
   "source": [
    "percentage = (april/peakall)*100"
   ]
  },
  {
   "cell_type": "code",
   "execution_count": 9,
   "metadata": {},
   "outputs": [
    {
     "data": {
      "text/plain": [
       "50.12900847769997"
      ]
     },
     "execution_count": 9,
     "metadata": {},
     "output_type": "execute_result"
    }
   ],
   "source": [
    "percentage"
   ]
  },
  {
   "cell_type": "code",
   "execution_count": 10,
   "metadata": {},
   "outputs": [],
   "source": [
    "import numpy as np"
   ]
  },
  {
   "cell_type": "code",
   "execution_count": 11,
   "metadata": {},
   "outputs": [
    {
     "data": {
      "text/plain": [
       "50.13"
      ]
     },
     "execution_count": 11,
     "metadata": {},
     "output_type": "execute_result"
    }
   ],
   "source": [
    "np.round(percentage, decimals=2)"
   ]
  },
  {
   "cell_type": "markdown",
   "metadata": {
    "colab_type": "text",
    "id": "cqlRmBKq_bm1"
   },
   "source": [
    "### Please write down the number that you calculated for the variable `percentage` rounded up to 2 decimal places and input in Quiz 2.1"
   ]
  },
  {
   "cell_type": "code",
   "execution_count": null,
   "metadata": {
    "colab": {},
    "colab_type": "code",
    "id": "fFd8w1gD_hKw"
   },
   "outputs": [],
   "source": []
  }
 ],
 "metadata": {
  "colab": {
   "collapsed_sections": [],
   "name": "Exercise 2.1 - Pandas Fundamentals I",
   "provenance": [
    {
     "file_id": "1vHY4YcsGCXf4TRtZJmzYKC83WQsnumsg",
     "timestamp": 1587200459961
    }
   ]
  },
  "kernelspec": {
   "display_name": "Python 3",
   "language": "python",
   "name": "python3"
  },
  "language_info": {
   "codemirror_mode": {
    "name": "ipython",
    "version": 3
   },
   "file_extension": ".py",
   "mimetype": "text/x-python",
   "name": "python",
   "nbconvert_exporter": "python",
   "pygments_lexer": "ipython3",
   "version": "3.7.6"
  }
 },
 "nbformat": 4,
 "nbformat_minor": 1
}
